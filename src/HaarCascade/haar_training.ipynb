{
 "cells": [
  {
   "cell_type": "code",
   "execution_count": null,
   "metadata": {},
   "outputs": [],
   "source": [
    "import os"
   ]
  },
  {
   "cell_type": "code",
   "execution_count": 4,
   "metadata": {},
   "outputs": [
    {
     "name": "stdout",
     "output_type": "stream",
     "text": [
      "Info file name: positive.txt\n",
      "Img file name: (NULL)\n",
      "Vec file name: pos.vec\n",
      "BG  file name: (NULL)\n",
      "Num: 1000\n",
      "BG color: 0\n",
      "BG threshold: 80\n",
      "Invert: FALSE\n",
      "Max intensity deviation: 40\n",
      "Max x angle: 1.1\n",
      "Max y angle: 1.1\n",
      "Max z angle: 0.5\n",
      "Show samples: FALSE\n",
      "Width: 24\n",
      "Height: 24\n",
      "Max Scale: -1\n",
      "RNG Seed: 12345\n",
      "Create training samples from images collection...\n",
      "Done. Created 798 samples\n"
     ]
    },
    {
     "name": "stderr",
     "output_type": "stream",
     "text": [
      "positive.txt(699) : parse error\n"
     ]
    }
   ],
   "source": [
    "os.system(\".\\opencv\\build\\x64\\vc15\\bin\\opencv_createsamples.exe -info positive.txt -w 24 -h 24 -num 1000 -vec pos.vec\")"
   ]
  },
  {
   "cell_type": "code",
   "execution_count": null,
   "metadata": {},
   "outputs": [],
   "source": [
    "os.system(\".\\opencv\\build\\x64\\vc15\\bin\\opencv_traincascade.exe -data .\\dataset\\ -vec pos.vec -bg bg.txt -w 24 -h 24 -numPos 750 -numNeg 375 -numStages 10\")"
   ]
  }
 ],
 "metadata": {
  "kernelspec": {
   "display_name": "habakiri",
   "language": "python",
   "name": "python3"
  },
  "language_info": {
   "codemirror_mode": {
    "name": "ipython",
    "version": 3
   },
   "file_extension": ".py",
   "mimetype": "text/x-python",
   "name": "python",
   "nbconvert_exporter": "python",
   "pygments_lexer": "ipython3",
   "version": "3.9.0"
  }
 },
 "nbformat": 4,
 "nbformat_minor": 2
}
